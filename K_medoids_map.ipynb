{
  "nbformat": 4,
  "nbformat_minor": 0,
  "metadata": {
    "colab": {
      "name": "K-medoids.map",
      "private_outputs": true,
      "provenance": [],
      "collapsed_sections": [],
      "authorship_tag": "ABX9TyMJ+eV+dsXb2mKlP8yjiWUd",
      "include_colab_link": true
    },
    "kernelspec": {
      "name": "python3",
      "display_name": "Python 3"
    },
    "language_info": {
      "name": "python"
    }
  },
  "cells": [
    {
      "cell_type": "markdown",
      "metadata": {
        "id": "view-in-github",
        "colab_type": "text"
      },
      "source": [
        "<a href=\"https://colab.research.google.com/github/dmsgustn1938/capstone/blob/main/K_medoids_map.ipynb\" target=\"_parent\"><img src=\"https://colab.research.google.com/assets/colab-badge.svg\" alt=\"Open In Colab\"/></a>"
      ]
    },
    {
      "cell_type": "code",
      "metadata": {
        "id": "3_nCTxknRPsK"
      },
      "source": [
        "pip install scikit-learn-extra"
      ],
      "execution_count": null,
      "outputs": []
    },
    {
      "cell_type": "code",
      "metadata": {
        "id": "z124PMzxQb0t"
      },
      "source": [
        "#from sklearn_extra.cluster import KMedoids\n",
        "from sklearn.datasets import make_blobs\n",
        "import numpy as np\n",
        "import pandas as pd\n",
        "import csv\n",
        "from pandas import DataFrame\n",
        "import folium\n",
        "import matplotlib.pyplot as plt\n",
        "import json\n",
        "import re"
      ],
      "execution_count": null,
      "outputs": []
    },
    {
      "cell_type": "markdown",
      "metadata": {
        "id": "NkBRAKERWD8a"
      },
      "source": [
        "LPG충전소 데이터 불러오기"
      ]
    },
    {
      "cell_type": "code",
      "metadata": {
        "id": "YBi7bR06RD8S"
      },
      "source": [
        "mapdata = pd.read_csv('LPG.csv', encoding = 'euc-kr')"
      ],
      "execution_count": null,
      "outputs": []
    },
    {
      "cell_type": "code",
      "metadata": {
        "id": "rQGxHoyjSHy8"
      },
      "source": [
        "lat = mapdata['WGS84위도']\n",
        "long = mapdata['WGS84경도']  "
      ],
      "execution_count": null,
      "outputs": []
    },
    {
      "cell_type": "code",
      "metadata": {
        "id": "PaklAdSjQvdr"
      },
      "source": [
        "lpgdata = pd.DataFrame({'위도' : lat,'경도' : long})"
      ],
      "execution_count": null,
      "outputs": []
    },
    {
      "cell_type": "code",
      "metadata": {
        "id": "V19HAJpjeIFI"
      },
      "source": [
        "lpgarray = lpgdata.to_numpy()"
      ],
      "execution_count": null,
      "outputs": []
    },
    {
      "cell_type": "code",
      "metadata": {
        "id": "MITZ17hHT6aS"
      },
      "source": [
        "latmean = lat.mean()\n",
        "longmean = long.mean()"
      ],
      "execution_count": null,
      "outputs": []
    },
    {
      "cell_type": "code",
      "metadata": {
        "id": "zgzyK0xeT4ET"
      },
      "source": [
        "m = folium.Map([latmean,longmean],zoom_start=9)"
      ],
      "execution_count": null,
      "outputs": []
    },
    {
      "cell_type": "markdown",
      "metadata": {
        "id": "EIKKqjMPWmwZ"
      },
      "source": [
        "지도 생성"
      ]
    },
    {
      "cell_type": "code",
      "metadata": {
        "id": "86NrkTC1VRoU"
      },
      "source": [
        "k = int(input(\"군집수를 넣어주세요 : \"))"
      ],
      "execution_count": null,
      "outputs": []
    },
    {
      "cell_type": "code",
      "metadata": {
        "id": "UTTxcgxyShax"
      },
      "source": [
        "kmedoids = KMedoids(n_clusters=k, random_state=0).fit(lpgarray)\n",
        "labels = kmedoids.labels_"
      ],
      "execution_count": null,
      "outputs": []
    },
    {
      "cell_type": "code",
      "metadata": {
        "id": "1Y7MsDPTV7fM"
      },
      "source": [
        "susomap = kmedoids.cluster_centers_"
      ],
      "execution_count": null,
      "outputs": []
    },
    {
      "cell_type": "code",
      "metadata": {
        "id": "5JVIh3G_f6Vx"
      },
      "source": [
        "for i in range(0, k):\n",
        "    sub_lat =  susomap[i,0]\n",
        "    sub_long = susomap[i,1]\n",
        "    \n",
        "    folium.Marker([sub_lat,sub_long]).add_to(m)"
      ],
      "execution_count": null,
      "outputs": []
    },
    {
      "cell_type": "code",
      "metadata": {
        "id": "PjK8xC79Udy5"
      },
      "source": [
        "m"
      ],
      "execution_count": null,
      "outputs": []
    },
    {
      "cell_type": "code",
      "metadata": {
        "id": "MG3q3sf-W-UJ"
      },
      "source": [
        "m.save('example.html')"
      ],
      "execution_count": null,
      "outputs": []
    },
    {
      "cell_type": "markdown",
      "metadata": {
        "id": "r__IjCoTCy9w"
      },
      "source": [
        "경기도 인구"
      ]
    },
    {
      "cell_type": "code",
      "metadata": {
        "id": "DGIPo2gjAkdx"
      },
      "source": [
        "ggdata = pd.read_csv('ggpopulation.csv', encoding = 'euc-kr')"
      ],
      "execution_count": null,
      "outputs": []
    },
    {
      "cell_type": "code",
      "metadata": {
        "id": "PAK_bnEMJfpa"
      },
      "source": [
        "ggdata"
      ],
      "execution_count": null,
      "outputs": []
    },
    {
      "cell_type": "code",
      "metadata": {
        "id": "MfXPR9boC3ZZ"
      },
      "source": [
        "geo_json = 'https://raw.githubusercontent.com/southkorea/southkorea-maps/master/kostat/2013/json/skorea_submunicipalities_geo_simple.json'"
      ],
      "execution_count": null,
      "outputs": []
    },
    {
      "cell_type": "code",
      "metadata": {
        "id": "oC-WpEVED3m4"
      },
      "source": [
        "ggmap = folium.Map(location=[latmean,longmean], zoom_start = 9, tiles = 'Stamen Terrain')"
      ],
      "execution_count": null,
      "outputs": []
    },
    {
      "cell_type": "code",
      "metadata": {
        "id": "2jnNHTMzFqGg"
      },
      "source": [
        "ggmap.choropleth(geo_data=geo_json,\n",
        "    name='인구수',\n",
        "    data=ggdata,\n",
        "    columns=['시군구별', '인구'],\n",
        "    key_on='properties.code',\n",
        "    fill_color='YlGn',\n",
        "    highlight = True,\n",
        "    fill_opacity=0.5,\n",
        "    line_opacity=1,\n",
        "    legend_name = 'Population(people)')"
      ],
      "execution_count": null,
      "outputs": []
    },
    {
      "cell_type": "code",
      "metadata": {
        "id": "PrbRqwGLKZNQ"
      },
      "source": [
        "folium.LayerControl().add_to(ggmap)"
      ],
      "execution_count": null,
      "outputs": []
    }
  ]
}