{
  "nbformat": 4,
  "nbformat_minor": 0,
  "metadata": {
    "colab": {
      "name": "시계열분석.ipynb",
      "private_outputs": true,
      "provenance": [],
      "collapsed_sections": [],
      "authorship_tag": "ABX9TyMLjgFPU60aywdHjzrFDZRR",
      "include_colab_link": true
    },
    "kernelspec": {
      "name": "python3",
      "display_name": "Python 3"
    },
    "language_info": {
      "name": "python"
    }
  },
  "cells": [
    {
      "cell_type": "markdown",
      "metadata": {
        "id": "view-in-github",
        "colab_type": "text"
      },
      "source": [
        "<a href=\"https://colab.research.google.com/github/dmsgustn1938/capstone/blob/main/%EC%8B%9C%EA%B3%84%EC%97%B4%EB%B6%84%EC%84%9D.ipynb\" target=\"_parent\"><img src=\"https://colab.research.google.com/assets/colab-badge.svg\" alt=\"Open In Colab\"/></a>"
      ]
    },
    {
      "cell_type": "code",
      "metadata": {
        "id": "1vU4M0zpzLVT"
      },
      "source": [
        "import csv\n",
        "import pandas as pd\n",
        "from matplotlib import pyplot\n",
        "import matplotlib.pyplot as plt\n",
        "from statsmodels.tsa.arima_model import ARIMA\n",
        "import statsmodels.api as sm"
      ],
      "execution_count": null,
      "outputs": []
    },
    {
      "cell_type": "code",
      "metadata": {
        "id": "TSWC9Wlrzuus"
      },
      "source": [
        "cardata = pd.read_csv('car1.csv', encoding = 'euc-kr')"
      ],
      "execution_count": null,
      "outputs": []
    },
    {
      "cell_type": "code",
      "metadata": {
        "id": "4p1a3o7PzuyS"
      },
      "source": [
        "cardata['date'] = pd.to_datetime(cardata['date'])\n",
        "cardata"
      ],
      "execution_count": null,
      "outputs": []
    },
    {
      "cell_type": "code",
      "metadata": {
        "id": "gYklxFjM2xKD"
      },
      "source": [
        "cardata.index = cardata['date']\n",
        "cardata.set_index('date', inplace=True)"
      ],
      "execution_count": null,
      "outputs": []
    },
    {
      "cell_type": "markdown",
      "metadata": {
        "id": "Gfxsu3h-rqZa"
      },
      "source": [
        "경기도 수소차 분기별 증가추이"
      ]
    },
    {
      "cell_type": "code",
      "metadata": {
        "id": "4t4v5Lcx22By"
      },
      "source": [
        "cardata.plot()\n",
        "plt.show()"
      ],
      "execution_count": null,
      "outputs": []
    },
    {
      "cell_type": "markdown",
      "metadata": {
        "id": "E1z3jkP9r3-L"
      },
      "source": [
        "자기 상관 플롯 (상관 관계도)"
      ]
    },
    {
      "cell_type": "code",
      "metadata": {
        "id": "l0rvulZXiRkK"
      },
      "source": [
        "from statsmodels.graphics.tsaplots import plot_acf, plot_pacf\n",
        "\n",
        "plot_acf(cardata)\n",
        "plot_pacf(cardata)\n",
        "plt.show()"
      ],
      "execution_count": null,
      "outputs": []
    },
    {
      "cell_type": "markdown",
      "metadata": {
        "id": "H_pItUR2r5aq"
      },
      "source": [
        "부분 자기 상관 플롯"
      ]
    },
    {
      "cell_type": "code",
      "metadata": {
        "id": "uWw9H319j1Nx"
      },
      "source": [
        "diff_1=cardata.diff(periods=1).iloc[1:]\n",
        "diff_1.plot()\n",
        "plot_acf(diff_1)\n",
        "plot_pacf(diff_1)\n",
        "plt.show()"
      ],
      "execution_count": null,
      "outputs": []
    },
    {
      "cell_type": "code",
      "metadata": {
        "id": "0rSWfpjmVbQU"
      },
      "source": [
        "pip install pmdarima"
      ],
      "execution_count": null,
      "outputs": []
    },
    {
      "cell_type": "markdown",
      "metadata": {
        "id": "TPZ-lSGNrkQD"
      },
      "source": [
        "auto_arima를 이용하여 최적의 모델 피팅"
      ]
    },
    {
      "cell_type": "code",
      "metadata": {
        "id": "oYxGZd1JVRWm"
      },
      "source": [
        "from pmdarima import auto_arima\n",
        "stepwise_fit = auto_arima(cardata['h_car'], trace=True,\n",
        "suppress_warnings=True)"
      ],
      "execution_count": null,
      "outputs": []
    },
    {
      "cell_type": "markdown",
      "metadata": {
        "id": "w4F8lE1qs86U"
      },
      "source": [
        "AIC값이 가장 작은 1,2,0모델로 선정\n",
        "(p,d,q)값중 q값이 0이므로 ar모델"
      ]
    },
    {
      "cell_type": "code",
      "metadata": {
        "id": "DdecjD1DrO-N"
      },
      "source": [
        "stepwise_fit.plot_diagnostics()"
      ],
      "execution_count": null,
      "outputs": []
    },
    {
      "cell_type": "code",
      "metadata": {
        "id": "0f9q3T82596q"
      },
      "source": [
        "model = ARIMA(cardata, order=(1,2,0))\n",
        "\n",
        "model_fit = model.fit(trend='c',full_output=True, disp=1)\n",
        "print(model_fit.summary())"
      ],
      "execution_count": null,
      "outputs": []
    },
    {
      "cell_type": "code",
      "metadata": {
        "id": "j-JqaYA-i5qo"
      },
      "source": [
        "model = ARIMA(cardata, order=(1,2,0))\n",
        "model_fit = model.fit(trend='nc',full_output=True, disp=1)\n",
        "print(model_fit.summary())"
      ],
      "execution_count": null,
      "outputs": []
    },
    {
      "cell_type": "code",
      "metadata": {
        "id": "Cx0wSsoDi-cA"
      },
      "source": [
        "model_fit.plot_predict()"
      ],
      "execution_count": null,
      "outputs": []
    },
    {
      "cell_type": "code",
      "metadata": {
        "id": "S_IL0m9AjDIA"
      },
      "source": [
        "fore = model_fit.forecast(steps=1)\n",
        "print(fore)"
      ],
      "execution_count": null,
      "outputs": []
    }
  ]
}