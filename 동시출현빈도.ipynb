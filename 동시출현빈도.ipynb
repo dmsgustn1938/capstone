{
  "nbformat": 4,
  "nbformat_minor": 0,
  "metadata": {
    "colab": {
      "name": "동시출현빈도.ipynb",
      "private_outputs": true,
      "provenance": [],
      "collapsed_sections": [],
      "authorship_tag": "ABX9TyPW7JqEbpYed7F1QbpVRsnZ",
      "include_colab_link": true
    },
    "kernelspec": {
      "name": "python3",
      "display_name": "Python 3"
    },
    "language_info": {
      "name": "python"
    }
  },
  "cells": [
    {
      "cell_type": "markdown",
      "metadata": {
        "id": "view-in-github",
        "colab_type": "text"
      },
      "source": [
        "<a href=\"https://colab.research.google.com/github/dmsgustn1938/capstone/blob/main/%EB%8F%99%EC%8B%9C%EC%B6%9C%ED%98%84%EB%B9%88%EB%8F%84.ipynb\" target=\"_parent\"><img src=\"https://colab.research.google.com/assets/colab-badge.svg\" alt=\"Open In Colab\"/></a>"
      ]
    },
    {
      "cell_type": "code",
      "metadata": {
        "id": "j9D-SBAb7B1H"
      },
      "source": [
        "newsdata = pd.read_csv('news.csv', encoding = 'utf-8')"
      ],
      "execution_count": null,
      "outputs": []
    },
    {
      "cell_type": "code",
      "metadata": {
        "id": "FNHu1nqtH_6L"
      },
      "source": [
        "sentence = newsdata['제목']"
      ],
      "execution_count": null,
      "outputs": []
    },
    {
      "cell_type": "code",
      "metadata": {
        "id": "endOaiqZIOtH"
      },
      "source": [
        "sentence"
      ],
      "execution_count": null,
      "outputs": []
    },
    {
      "cell_type": "code",
      "metadata": {
        "id": "yHQ0jt7GeKZo"
      },
      "source": [
        "import nltk\n",
        "nltk.download('punkt')"
      ],
      "execution_count": null,
      "outputs": []
    },
    {
      "cell_type": "code",
      "metadata": {
        "id": "rIkf0dFX9ByA"
      },
      "source": [
        "from nltk import word_tokenize, bigrams"
      ],
      "execution_count": null,
      "outputs": []
    },
    {
      "cell_type": "code",
      "metadata": {
        "id": "Z7YDCpbj9B1X"
      },
      "source": [
        "sentence = \"I love data science and deep learning\"\n",
        "token = word_tokenize(sentence)\n",
        "\n",
        "bgram = bigrams(token)\n",
        "bgram_list = [x for x in bgram]\n",
        "print(bgram_list)"
      ],
      "execution_count": null,
      "outputs": []
    },
    {
      "cell_type": "code",
      "metadata": {
        "id": "xrJjhbMU9B3e"
      },
      "source": [
        "from nltk.util import ngrams\n",
        "\n",
        "tgram = ngrams(token, 3)\n",
        "qgram = ngrams(token, 4)\n",
        "\n",
        "tgram_list = [x for x in tgram]\n",
        "qgram_list = [x for x in qgram]\n",
        "\n",
        "print(tgram_list)\n",
        "print(qgram_list)"
      ],
      "execution_count": null,
      "outputs": []
    },
    {
      "cell_type": "code",
      "metadata": {
        "id": "9dB8XT8c-N0W"
      },
      "source": [
        "from nltk import ConditionalFreqDist\n",
        "\n",
        "sentences = ['I love data science and deep learning', 'I love science ', 'I know this code']\n",
        "\n",
        "#sentences = sentence\n",
        "\n",
        "tokens = [word_tokenize(x) for x in sentences]\n",
        "\n",
        "bgrams = [bigrams(x) for x in tokens]\n",
        "\n",
        "token = []\n",
        "for i in bgrams :\n",
        "    token += ([x for x in i])\n",
        "\n",
        "cfd = ConditionalFreqDist(token)\n",
        "cfd.conditions() "
      ],
      "execution_count": null,
      "outputs": []
    },
    {
      "cell_type": "code",
      "metadata": {
        "id": "aaqIerw8_HFB"
      },
      "source": [
        "import numpy as np\n",
        "\n",
        "freq_matrix = []\n",
        "\n",
        "for i in cfd.keys() : \n",
        "    temp = []\n",
        "    for j in cfd.keys() :\n",
        "        temp.append(cfd[i][j])\n",
        "    freq_matrix.append(temp)\n",
        "freq_matrix = np.array(freq_matrix)\n",
        "\n",
        "print(cfd.keys)\n",
        "print(freq_matrix)"
      ],
      "execution_count": null,
      "outputs": []
    },
    {
      "cell_type": "code",
      "metadata": {
        "id": "2wX-FyxB_zfu"
      },
      "source": [
        "import pandas as pd\n",
        "\n",
        "df = pd.DataFrame(freq_matrix, index = cfd.keys(), columns = cfd.keys())\n",
        "df.style.background_gradient(cmap = 'coolwarm')"
      ],
      "execution_count": null,
      "outputs": []
    },
    {
      "cell_type": "code",
      "metadata": {
        "id": "g9KEF2QSAOS3"
      },
      "source": [
        "import networkx as nx\n",
        "\n",
        "G = nx.from_pandas_adjacency(df)\n",
        "\n",
        "print(G.nodes())\n",
        "print(G.edges())"
      ],
      "execution_count": null,
      "outputs": []
    },
    {
      "cell_type": "code",
      "metadata": {
        "id": "e8XkwDH1Auf4"
      },
      "source": [
        "nx.draw(G, with_labels = True, font_size= 25)"
      ],
      "execution_count": null,
      "outputs": []
    },
    {
      "cell_type": "code",
      "metadata": {
        "id": "cbcatalBA6Z9"
      },
      "source": [
        "from nltk.probability import ConditionalProbDist, MLEProbDist\n",
        "\n",
        "cpd = ConditionalProbDist(cfd, MLEProbDist)\n",
        "\n",
        "cpd.conditions()"
      ],
      "execution_count": null,
      "outputs": []
    },
    {
      "cell_type": "code",
      "metadata": {
        "id": "47BUkrS5BeA3"
      },
      "source": [
        "prob_matrix = []\n",
        "\n",
        "for i in cpd.keys() :\n",
        "    prob_matrix.append([cpd[i].prob(j) for j in cpd.keys()])\n",
        "\n",
        "prob_matrix = np.array(prob_matrix)\n",
        "\n",
        "print(cpd.keys())\n",
        "print(prob_matrix)"
      ],
      "execution_count": null,
      "outputs": []
    },
    {
      "cell_type": "code",
      "metadata": {
        "id": "y6OC_ZQbB_o6"
      },
      "source": [
        "df = pd.DataFrame(prob_matrix, index = cfd.keys(), columns = cfd.keys())\n",
        "df.style.background_gradient(cmap = 'coolwarm')"
      ],
      "execution_count": null,
      "outputs": []
    },
    {
      "cell_type": "code",
      "metadata": {
        "id": "zgd71wnGCOcP"
      },
      "source": [
        "prob_G = nx.from_pandas_adjacency(df)\n",
        "\n",
        "print(prob_G.nodes)\n",
        "print(prob_G.edges)"
      ],
      "execution_count": null,
      "outputs": []
    },
    {
      "cell_type": "code",
      "metadata": {
        "id": "lTfHMTXPCSOX"
      },
      "source": [
        "nx.draw(prob_G, with_labels=True)"
      ],
      "execution_count": null,
      "outputs": []
    },
    {
      "cell_type": "markdown",
      "metadata": {
        "id": "f3k6uuiTC5mX"
      },
      "source": [
        "중심성"
      ]
    },
    {
      "cell_type": "code",
      "metadata": {
        "id": "8nUCnnL7CSQ3"
      },
      "source": [
        "nx.degree_centrality(G)"
      ],
      "execution_count": null,
      "outputs": []
    },
    {
      "cell_type": "markdown",
      "metadata": {
        "id": "7LrSqbBhC9wG"
      },
      "source": [
        "위세 중심성"
      ]
    },
    {
      "cell_type": "code",
      "metadata": {
        "id": "0MZt-b1xC4SA"
      },
      "source": [
        "nx.eigenvector_centrality(G, weight= \"weight\")"
      ],
      "execution_count": null,
      "outputs": []
    },
    {
      "cell_type": "markdown",
      "metadata": {
        "id": "ZAK14NiqDPE_"
      },
      "source": [
        "근접 중심성(한 단어가 다른 단어에 가까운 정도)"
      ]
    },
    {
      "cell_type": "code",
      "metadata": {
        "id": "aO9DexuiDLK_"
      },
      "source": [
        "nx.closeness_centrality(G, distance = \"weight\")"
      ],
      "execution_count": null,
      "outputs": []
    },
    {
      "cell_type": "markdown",
      "metadata": {
        "id": "nWaxib5fDha3"
      },
      "source": [
        "매개 중심성"
      ]
    },
    {
      "cell_type": "code",
      "metadata": {
        "id": "P_jn2orPDg13"
      },
      "source": [
        "nx.current_flow_betweenness_centrality(G)"
      ],
      "execution_count": null,
      "outputs": []
    },
    {
      "cell_type": "markdown",
      "metadata": {
        "id": "wIN_HYFcDt8P"
      },
      "source": [
        "페이지랭크"
      ]
    },
    {
      "cell_type": "code",
      "metadata": {
        "id": "mFRA6B4vDskv"
      },
      "source": [
        "nx.pagerank(G)"
      ],
      "execution_count": null,
      "outputs": []
    },
    {
      "cell_type": "code",
      "metadata": {
        "id": "84SV6oBlD3cv"
      },
      "source": [
        "def get_node_size(node_values) : \n",
        "    nsize = np.array([v for v in node_values])\n",
        "    nsize = 1000 * (nsize - min(nsize)) / (max(nsize) - min(nsize))\n",
        "\n",
        "    return nsize"
      ],
      "execution_count": null,
      "outputs": []
    },
    {
      "cell_type": "code",
      "metadata": {
        "id": "0Mehx8RwEVN_"
      },
      "source": [
        "import matplotlib.pyplot as plt\n",
        "\n",
        "plt.style.use('seaborn-white')\n",
        "\n",
        "dc = nx.degree_centrality(G).values()\n",
        "ec = nx.eigenvector_centrality(G, weight = 'weight').values()\n",
        "cc = nx.closeness_centrality(G, distance = 'weight').values()\n",
        "bc = nx.betweenness_centrality(G).values()\n",
        "pr = nx.pagerank(G).values()\n",
        "\n",
        "plt.figure(figsize=(14, 20))\n",
        "plt.axis('off')\n",
        "\n",
        "plt.subplot(321)\n",
        "plt.title('Normal', fontsize = 16)\n",
        "nx.draw_networkx(G, font_size = 16, alpha = 0.7, cmap = plt.cm.Blues)\n",
        "\n",
        "plt.subplot(322)\n",
        "plt.title('Degree Centrality', fontsize = 16)\n",
        "nx.draw_networkx(G, font_size = 16, alpha = 0.7, node_color = list(dc), node_size = get_node_size(dc), cmap = plt.cm.Blues)\n",
        "\n",
        "plt.subplot(323)\n",
        "plt.title('Eigenvector Centrality', fontsize = 16)\n",
        "nx.draw_networkx(G, font_size = 16, alpha = 0.7, node_color = list(ec), node_size = get_node_size(ec), cmap = plt.cm.Blues)\n",
        "\n",
        "plt.subplot(324)\n",
        "plt.title('Closeness Centrality', fontsize = 16)\n",
        "nx.draw_networkx(G, font_size = 16, alpha = 0.7, node_color = list(cc), node_size = get_node_size(cc), cmap = plt.cm.Blues)\n",
        "\n",
        "plt.subplot(325)\n",
        "plt.title('Betweenness Centrality', fontsize = 16)\n",
        "nx.draw_networkx(G, font_size = 16, alpha = 0.7, node_color = list(bc), node_size = get_node_size(bc), cmap = plt.cm.Blues)\n",
        "\n",
        "plt.subplot(326)\n",
        "plt.title('PageRank', fontsize = 16)\n",
        "nx.draw_networkx(G, font_size = 16, alpha = 0.7, node_color = list(pr), node_size = get_node_size(pr), cmap = plt.cm.Blues)\n",
        "\n",
        "plt.show()"
      ],
      "execution_count": null,
      "outputs": []
    },
    {
      "cell_type": "code",
      "metadata": {
        "id": "7tIa4JTyHctA"
      },
      "source": [
        "pl = nx.planar_layout(G)\n",
        "frl = nx.fruchterman_reingold_layout(G)\n",
        "sl = nx.spectral_layout(G)\n",
        "rl = nx.shell_layout(G)\n",
        "sl = nx.shell_layout(G)\n",
        "bl = bipa\n",
        "cl\n",
        "sl"
      ],
      "execution_count": null,
      "outputs": []
    }
  ]
}