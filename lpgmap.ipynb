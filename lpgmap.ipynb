{
  "nbformat": 4,
  "nbformat_minor": 0,
  "metadata": {
    "colab": {
      "name": "lpgmap",
      "private_outputs": true,
      "provenance": [],
      "collapsed_sections": [],
      "authorship_tag": "ABX9TyMW0IGyi699qUxSev8Ek3Dz",
      "include_colab_link": true
    },
    "kernelspec": {
      "name": "python3",
      "display_name": "Python 3"
    },
    "language_info": {
      "name": "python"
    }
  },
  "cells": [
    {
      "cell_type": "markdown",
      "metadata": {
        "id": "view-in-github",
        "colab_type": "text"
      },
      "source": [
        "<a href=\"https://colab.research.google.com/github/dmsgustn1938/k-medoids/blob/main/lpgmap.ipynb\" target=\"_parent\"><img src=\"https://colab.research.google.com/assets/colab-badge.svg\" alt=\"Open In Colab\"/></a>"
      ]
    },
    {
      "cell_type": "code",
      "metadata": {
        "id": "lzstxdFnsvTH"
      },
      "source": [
        "from sklearn import datasets\n",
        "import matplotlib.pyplot as plt\n",
        "from sklearn.cluster import KMeans\n",
        "import pandas as pd\n",
        "import csv\n",
        "import folium\n",
        "from pandas import DataFrame"
      ],
      "execution_count": null,
      "outputs": []
    },
    {
      "cell_type": "code",
      "metadata": {
        "id": "I-uQ0AG7tFWj"
      },
      "source": [
        "lpgmap = pd.read_csv('LPG.csv', encoding = 'euc-kr')"
      ],
      "execution_count": null,
      "outputs": []
    },
    {
      "cell_type": "code",
      "metadata": {
        "id": "D_xs6h9WtFfq"
      },
      "source": [
        "lat = lpgmap['WGS84위도']\n",
        "long = lpgmap['WGS84경도']  "
      ],
      "execution_count": null,
      "outputs": []
    },
    {
      "cell_type": "code",
      "metadata": {
        "id": "cEfaR6mCtFhr"
      },
      "source": [
        "latmean = lat.mean()\n",
        "longmean = long.mean()"
      ],
      "execution_count": null,
      "outputs": []
    },
    {
      "cell_type": "code",
      "metadata": {
        "id": "K0QmkQnVtFjp"
      },
      "source": [
        "mapdata = pd.DataFrame({'위도' : lat,'경도' : long})"
      ],
      "execution_count": null,
      "outputs": []
    },
    {
      "cell_type": "code",
      "metadata": {
        "id": "Zorb8HP_tFpR"
      },
      "source": [
        "m = folium.Map([latmean,longmean],zoom_start=9)"
      ],
      "execution_count": null,
      "outputs": []
    },
    {
      "cell_type": "code",
      "metadata": {
        "id": "l5L6lNXjt_eM"
      },
      "source": [
        "for i in range(0, 433):\n",
        "    sub_lat =  mapdata.loc[i,'위도']\n",
        "    sub_long = mapdata.loc[i,'경도']\n",
        "    \n",
        "    folium.Marker([sub_lat,sub_long]).add_to(m)"
      ],
      "execution_count": null,
      "outputs": []
    },
    {
      "cell_type": "code",
      "metadata": {
        "id": "RGxG7Ni9uF0S"
      },
      "source": [
        "m.save('example.html')"
      ],
      "execution_count": null,
      "outputs": []
    },
    {
      "cell_type": "code",
      "metadata": {
        "id": "ufWUZeA3uG6S"
      },
      "source": [
        "m"
      ],
      "execution_count": null,
      "outputs": []
    }
  ]
}