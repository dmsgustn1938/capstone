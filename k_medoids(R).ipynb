{
  "nbformat": 4,
  "nbformat_minor": 0,
  "metadata": {
    "colab": {
      "name": "k-medoids(R)",
      "private_outputs": true,
      "provenance": [],
      "collapsed_sections": [],
      "authorship_tag": "ABX9TyPj0Ra/GfcrlqmNLQOMGur5",
      "include_colab_link": true
    },
    "kernelspec": {
      "name": "ir",
      "display_name": "R"
    },
    "language_info": {
      "name": "R"
    }
  },
  "cells": [
    {
      "cell_type": "markdown",
      "metadata": {
        "id": "view-in-github",
        "colab_type": "text"
      },
      "source": [
        "<a href=\"https://colab.research.google.com/github/dmsgustn1938/k-medoids/blob/main/k_medoids(R).ipynb\" target=\"_parent\"><img src=\"https://colab.research.google.com/assets/colab-badge.svg\" alt=\"Open In Colab\"/></a>"
      ]
    },
    {
      "cell_type": "code",
      "metadata": {
        "id": "LqHzClm4VMTY"
      },
      "source": [
        "install.packages(\"fpc\") "
      ],
      "execution_count": null,
      "outputs": []
    },
    {
      "cell_type": "code",
      "metadata": {
        "id": "j1kvcRGhRx54"
      },
      "source": [
        "library(fpc)  \n",
        "library(ggplot2)"
      ],
      "execution_count": null,
      "outputs": []
    },
    {
      "cell_type": "code",
      "metadata": {
        "id": "0xmzuX71RyE4"
      },
      "source": [
        "point <- read.csv(\"LPG.csv\", header=TRUE, stringsAsFactors=FALSE, fileEncoding = \"euc-kr\")\n",
        "point"
      ],
      "execution_count": null,
      "outputs": []
    },
    {
      "cell_type": "code",
      "metadata": {
        "id": "ez272BNqRyLQ"
      },
      "source": [
        "Latitude <- point[,8]\n",
        "Latitude <- na.omit(Latitude)\n",
        "Longitude <- point[,9]\n",
        "Longitude <- na.omit(Longitude)"
      ],
      "execution_count": null,
      "outputs": []
    },
    {
      "cell_type": "code",
      "metadata": {
        "id": "eM3KesuPRyP4"
      },
      "source": [
        "lpg.data <- data.frame(Lon = Longitude, Lat = Latitude) \n",
        "lpg.data"
      ],
      "execution_count": null,
      "outputs": []
    },
    {
      "cell_type": "code",
      "metadata": {
        "id": "KkeOLFm5RpQX"
      },
      "source": [
        "pamk.result <- pamk(lpg.data,7)\n",
        "# pamk.result$nc 군집갯수 \n",
        "pamk.result$pamobject$medoids"
      ],
      "execution_count": null,
      "outputs": []
    },
    {
      "cell_type": "code",
      "metadata": {
        "id": "c94BLjEdTPV4"
      },
      "source": [
        "table(pamk.result$pamobject$clustering) "
      ],
      "execution_count": null,
      "outputs": []
    },
    {
      "cell_type": "code",
      "metadata": {
        "id": "jlSnYvh6TVJA"
      },
      "source": [
        "plot(pamk.result$pamobject)"
      ],
      "execution_count": null,
      "outputs": []
    },
    {
      "cell_type": "code",
      "metadata": {
        "id": "bQCM5J4jW3Mx"
      },
      "source": [
        "plot(pamk.result$pamobject$medoids, col = rainbow(pamk.result$nc))"
      ],
      "execution_count": null,
      "outputs": []
    },
    {
      "cell_type": "code",
      "metadata": {
        "id": "AQcRQXvGR45w"
      },
      "source": [
        "sub_lat <- NULL\n",
        "sub_long <- NULL"
      ],
      "execution_count": null,
      "outputs": []
    },
    {
      "cell_type": "code",
      "metadata": {
        "id": "jYQLotuLTJ1w"
      },
      "source": [
        "for(i in 1:pamk.result$nc){\n",
        "  a = which(lpg.data$Lon == pamk.result$pamobject$medoids[i,1])\n",
        "  sub_lat <-  c(sub_lat,lpg.data[a,2])\n",
        "  sub_long <- c(sub_long,lpg.data[a,1])\n",
        "}"
      ],
      "execution_count": null,
      "outputs": []
    },
    {
      "cell_type": "code",
      "metadata": {
        "id": "dPofUKnnR69x"
      },
      "source": [
        "lpg.map <- data.frame('위도'=sub_lat,'경도'=sub_long)\n",
        "lpg.map"
      ],
      "execution_count": null,
      "outputs": []
    },
    {
      "cell_type": "code",
      "metadata": {
        "id": "1zSUCGTUR8Wg"
      },
      "source": [
        "#write.csv(lpg.map,file = \"lpg_k-medioids_map.csv\")\n",
        "#content에 저장"
      ],
      "execution_count": null,
      "outputs": []
    }
  ]
}