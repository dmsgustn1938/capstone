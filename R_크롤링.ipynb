{
  "nbformat": 4,
  "nbformat_minor": 0,
  "metadata": {
    "colab": {
      "name": "R 크롤링",
      "private_outputs": true,
      "provenance": [],
      "collapsed_sections": [],
      "toc_visible": true,
      "authorship_tag": "ABX9TyN+3XxzIIrlfdKUut7j8dlT",
      "include_colab_link": true
    },
    "kernelspec": {
      "name": "ir",
      "display_name": "R"
    },
    "language_info": {
      "name": "R"
    }
  },
  "cells": [
    {
      "cell_type": "markdown",
      "metadata": {
        "id": "view-in-github",
        "colab_type": "text"
      },
      "source": [
        "<a href=\"https://colab.research.google.com/github/dmsgustn1938/capstone/blob/main/R_%ED%81%AC%EB%A1%A4%EB%A7%81.ipynb\" target=\"_parent\"><img src=\"https://colab.research.google.com/assets/colab-badge.svg\" alt=\"Open In Colab\"/></a>"
      ]
    },
    {
      "cell_type": "markdown",
      "metadata": {
        "id": "xvT5WF6lfGYL"
      },
      "source": [
        "# 워드클라우드"
      ]
    },
    {
      "cell_type": "markdown",
      "metadata": {
        "id": "HHOAl3Tifsd7"
      },
      "source": [
        "1.   네이버 뉴스 링크 가져오기\n",
        "2.   네이버 뉴스 양식으로 된 기사 링크 가져오기\n",
        "3.   제목, 날짜, 본문 내용 가져오기\n",
        "4.   크롤링 결과 데이터프레임으로 저장 후 csv로 저장"
      ]
    },
    {
      "cell_type": "markdown",
      "metadata": {
        "id": "3OWJR2d1fiWB"
      },
      "source": [
        "# 네이버 뉴스 링크 가져오기"
      ]
    },
    {
      "cell_type": "code",
      "metadata": {
        "id": "2zNOtLyQuIHS"
      },
      "source": [
        "library(rvest)\n",
        "library(dplyr)"
      ],
      "execution_count": null,
      "outputs": []
    },
    {
      "cell_type": "code",
      "metadata": {
        "id": "_XHZ7w1qAt8h"
      },
      "source": [
        "#날짜 입력\n",
        "year <- '2020'\n",
        "month <- '08'\n",
        "day <- '31'\n",
        "\n",
        "#네이버 뉴스 페이지 링크 가져오기\n",
        "url <- NULL\n",
        " for(x in 0:153){ #뉴스페이지 하나 적게\n",
        " url[x+1] <- paste0('https://search.naver.com/search.naver?where=news&sm=tab_jum&query=수소차&ds=' , year , '.' , month, '.01&de=' , year , '.' , month , '.',day,'&news_office_checked=&nso=so%3Ar%2Cp%3Afrom' , year, month, '01to', year , month, day, '&a:all&start=', x*10)\n",
        " }\n",
        "\n",
        " length(url)"
      ],
      "execution_count": null,
      "outputs": []
    },
    {
      "cell_type": "markdown",
      "metadata": {
        "id": "ol9pqkLshILa"
      },
      "source": [
        "# 네이버 뉴스 양식으로 된 기사 링크 가져오기"
      ]
    },
    {
      "cell_type": "code",
      "metadata": {
        "id": "YcjTZhUeBnPO"
      },
      "source": [
        "total.link <- NULL\n",
        "\n",
        "i1 <- 1\n",
        "i2 <- 1\n",
        "\n",
        "while(i1 <= length(url)){\n",
        "    html <- read_html(url[i1])\n",
        "    link <- html %>% html_nodes('a') %>% html_attr('href')\n",
        "    link1 <- unique(link)\n",
        "    link2 <- link1[grep(\"https://news.naver.com\", link1)]\n",
        "    baselink <- link2[-grep(\"factcheck\", link2)]\n",
        "        while(i2 <= length(baselink)){\n",
        "            total.link <- append(total.link, baselink[i2])\n",
        "            i2 <- i2 + 1\n",
        "        }      \n",
        "    i1 <- i1 + 1\n",
        "    i2 <- 1\n",
        "}\n",
        "\n",
        "last.link <-unique(total.link)\n",
        "length(last.link)"
      ],
      "execution_count": null,
      "outputs": []
    },
    {
      "cell_type": "markdown",
      "metadata": {
        "id": "6mh90DwLgIma"
      },
      "source": [
        "# 제목, 날짜, 본문 내용 가져오기"
      ]
    },
    {
      "cell_type": "code",
      "metadata": {
        "id": "fCrQusu4Gg1V"
      },
      "source": [
        "total.title <- NULL\n",
        "total.date <- NULL\n",
        "total.article <- NULL\n",
        "\n",
        "i3 <- 1\n",
        "\n",
        "while(i3 <= length(last.link)) {\n",
        "    url_new <- last.link[i3]\n",
        "    base <- read_html(url_new)\n",
        "    \n",
        "    #제목\n",
        "    title <- base %>% html_nodes('#articleTitle') %>% html_text()\n",
        "    total.title <- append(total.title, title)\n",
        "\n",
        "    #날짜(수정 전 날짜)\n",
        "    date <- base %>% html_nodes('.t11') %>% html_text()\n",
        "    total.date <- append(total.date, date[1])\n",
        "    \n",
        "    #본문(공통 불용어 제거)\n",
        "    article <- base %>% html_nodes('#articleBodyContents') %>% html_text()\n",
        "    article1 <- gsub(\"\\n\",\"\", article)\n",
        "    article2 <- gsub(\"\\t\",\"\", article1)\n",
        "    article3 <- gsub(\"// flash 오류를 우회하기 위한 함수 추가function _flash_removeCallback()\",\"\", article2)\n",
        "    article4 <- gsub(\"[()]\", \"\", article3)\n",
        "    article5 <- gsub(\"[{}]\", \"\", article4)\n",
        "    total.article <- append(total.article, article5)\n",
        "    \n",
        "    i3 <- i3 + 1\n",
        "}"
      ],
      "execution_count": null,
      "outputs": []
    },
    {
      "cell_type": "markdown",
      "metadata": {
        "id": "MBrQ18QThXha"
      },
      "source": [
        "# 크롤링 결과 데이터프레임으로 저장 후 csv로 저장"
      ]
    },
    {
      "cell_type": "code",
      "metadata": {
        "id": "rVVpUDcmS_ky"
      },
      "source": [
        "df <- data.frame(\"제목\" = total.title, \"날짜\" = total.date, \"본문\" = total.article)\n",
        "write.csv(df,file = \"news.csv\")"
      ],
      "execution_count": null,
      "outputs": []
    }
  ]
}