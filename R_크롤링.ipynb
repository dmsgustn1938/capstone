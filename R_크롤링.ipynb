{
  "nbformat": 4,
  "nbformat_minor": 0,
  "metadata": {
    "colab": {
      "name": "R 크롤링",
      "private_outputs": true,
      "provenance": [],
      "collapsed_sections": [],
      "authorship_tag": "ABX9TyO/q2Ata/Nb1buTKcBI3AhG",
      "include_colab_link": true
    },
    "kernelspec": {
      "name": "ir",
      "display_name": "R"
    },
    "language_info": {
      "name": "R"
    }
  },
  "cells": [
    {
      "cell_type": "markdown",
      "metadata": {
        "id": "view-in-github",
        "colab_type": "text"
      },
      "source": [
        "<a href=\"https://colab.research.google.com/github/dmsgustn1938/k-medoids/blob/main/R_%ED%81%AC%EB%A1%A4%EB%A7%81.ipynb\" target=\"_parent\"><img src=\"https://colab.research.google.com/assets/colab-badge.svg\" alt=\"Open In Colab\"/></a>"
      ]
    },
    {
      "cell_type": "code",
      "metadata": {
        "id": "2zNOtLyQuIHS"
      },
      "source": [
        "library(rvest)\n",
        "library(dplyr)"
      ],
      "execution_count": null,
      "outputs": []
    },
    {
      "cell_type": "code",
      "metadata": {
        "id": "_XHZ7w1qAt8h"
      },
      "source": [
        "baseurl <- \"https://search.naver.com/search.naver?where=news&sm=tab_pge&query=%EC%88%98%EC%86%8C%EC%B0%A8&sort=0&photo=0&field=0&pd=0&ds=&de=&cluster_rank=74&mynews=0&office_type=0&office_section_code=0&news_office_checked=&nso=so:r,p:all,a:all&start=\"\n",
        "\n",
        "url <- NULL\n",
        " for(x in 0:1){ #399까지\n",
        " url[x+1] <- paste0(baseurl, x*10+1)\n",
        " }"
      ],
      "execution_count": null,
      "outputs": []
    },
    {
      "cell_type": "code",
      "metadata": {
        "id": "NL8mjx8SBdGX"
      },
      "source": [
        "url"
      ],
      "execution_count": null,
      "outputs": []
    },
    {
      "cell_type": "markdown",
      "metadata": {
        "id": "gQzEbxN7Djuu"
      },
      "source": [
        "뉴스 링크 "
      ]
    },
    {
      "cell_type": "code",
      "metadata": {
        "id": "rPWsRRvGwZy_"
      },
      "source": [
        "html <- read_html(url[1])"
      ],
      "execution_count": null,
      "outputs": []
    },
    {
      "cell_type": "markdown",
      "metadata": {
        "id": "3iH8a26xDmgH"
      },
      "source": [
        "뉴스 링크 가공"
      ]
    },
    {
      "cell_type": "code",
      "metadata": {
        "id": "Ke0-VApbv9Uo"
      },
      "source": [
        "link <- html %>% html_nodes('a') %>% html_attr('href')\n",
        "\n",
        "link1 <- unique(link)\n",
        "\n",
        "link2 <- link1[grep(\"https://news.naver.com\", link1)]\n",
        "\n",
        "baselink <- link2[-grep(\"factcheck\", link2)]"
      ],
      "execution_count": null,
      "outputs": []
    },
    {
      "cell_type": "markdown",
      "metadata": {
        "id": "XSaDM5EK9f-H"
      },
      "source": [
        "본문 제목"
      ]
    },
    {
      "cell_type": "code",
      "metadata": {
        "id": "fCrQusu4Gg1V"
      },
      "source": [
        "total.title <- NULL\n",
        "total.date <- NULL\n",
        "total.article <- NULL\n",
        "i <- 1\n",
        "\n",
        "while(i <= length(baselink)) {\n",
        "    url_new <- baselink[i]\n",
        "    base <- read_html(url_new)\n",
        "    #제목\n",
        "    title <- base %>% html_nodes('#articleTitle') %>% html_text()\n",
        "    total.title[i] <- title\n",
        "\n",
        "    #날짜\n",
        "    date <- base %>% html_nodes('.t11') %>% html_text()\n",
        "    total.date[i] <- date\n",
        "    \n",
        "    #본문\n",
        "    article <- base %>% html_nodes('#articleBodyContents') %>% html_text()\n",
        "    article1 <- gsub(\"\\n\",\"\", article)\n",
        "    article2 <- gsub(\"\\t\",\"\", article1)\n",
        "    article3 <- gsub(\"// flash 오류를 우회하기 위한 함수 추가function _flash_removeCallback()\",\"\", article2)\n",
        "    article4 <- gsub(\"[()]\", \"\", article3)\n",
        "    article5 <- gsub(\"[{}]\", \"\", article4)\n",
        "    total.article[i] <- article5\n",
        "    \n",
        "    i <- i + 1\n",
        "}"
      ],
      "execution_count": null,
      "outputs": []
    },
    {
      "cell_type": "code",
      "metadata": {
        "id": "-XS98E9nHief"
      },
      "source": [
        "df <- data.frame(\"제목\" = total.title,\"날짜\" = total.date,\"본문\" = total.article)"
      ],
      "execution_count": null,
      "outputs": []
    },
    {
      "cell_type": "code",
      "metadata": {
        "id": "c3KzAqBf9cwu"
      },
      "source": [
        "df"
      ],
      "execution_count": null,
      "outputs": []
    }
  ]
}