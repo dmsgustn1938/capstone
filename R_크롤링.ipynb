{
  "nbformat": 4,
  "nbformat_minor": 0,
  "metadata": {
    "colab": {
      "name": "R 크롤링",
      "private_outputs": true,
      "provenance": [],
      "collapsed_sections": [],
      "authorship_tag": "ABX9TyP4w9OlwEXCnB0BVJJUHMWD",
      "include_colab_link": true
    },
    "kernelspec": {
      "name": "ir",
      "display_name": "R"
    },
    "language_info": {
      "name": "R"
    }
  },
  "cells": [
    {
      "cell_type": "markdown",
      "metadata": {
        "id": "view-in-github",
        "colab_type": "text"
      },
      "source": [
        "<a href=\"https://colab.research.google.com/github/dmsgustn1938/capstone/blob/main/R_%ED%81%AC%EB%A1%A4%EB%A7%81.ipynb\" target=\"_parent\"><img src=\"https://colab.research.google.com/assets/colab-badge.svg\" alt=\"Open In Colab\"/></a>"
      ]
    },
    {
      "cell_type": "code",
      "metadata": {
        "id": "2zNOtLyQuIHS"
      },
      "source": [
        "library(rvest)\n",
        "library(dplyr)"
      ],
      "execution_count": null,
      "outputs": []
    },
    {
      "cell_type": "code",
      "metadata": {
        "id": "_XHZ7w1qAt8h"
      },
      "source": [
        "yearinput <- readline('년 : ')\n",
        "monthinput <- readline('월 : ')\n",
        "\n",
        "url <- NULL\n",
        " for(x in 0:1){ #399까지\n",
        " url[x+1] <- paste0('https://search.naver.com/search.naver?where=news&sm=tab_jum&query=수소차&ds=' , year , '.0' , month, '.01&de=' , year , '.0' , month + 1 , '.01&news_office_checked=&nso=so%3Ar%2Cp%3Afrom' , year, '0', month, '01to', year , '0', month + 1, '01&a:all&start=', x*10+1)\n",
        " }"
      ],
      "execution_count": null,
      "outputs": []
    },
    {
      "cell_type": "code",
      "metadata": {
        "id": "NL8mjx8SBdGX"
      },
      "source": [
        "url"
      ],
      "execution_count": null,
      "outputs": []
    },
    {
      "cell_type": "code",
      "metadata": {
        "id": "YCEvgHV8O2jM"
      },
      "source": [
        "wer <- 'wow'\n",
        "er <- 'qwr'\n",
        "qrt <- 200\n",
        "q = paste0(wer,er,'asd',qrt) \n",
        "q"
      ],
      "execution_count": null,
      "outputs": []
    },
    {
      "cell_type": "markdown",
      "metadata": {
        "id": "gQzEbxN7Djuu"
      },
      "source": [
        "뉴스 링크 "
      ]
    },
    {
      "cell_type": "code",
      "metadata": {
        "id": "YcjTZhUeBnPO"
      },
      "source": [
        "total.link <- NULL\n",
        "\n",
        "i1 <- 1\n",
        "i2 <- 1\n",
        "\n",
        "while(i1 <= length(url)){\n",
        "    html <- read_html(url[i1])\n",
        "    link <- html %>% html_nodes('a') %>% html_attr('href')\n",
        "    link1 <- unique(link)\n",
        "    link2 <- link1[grep(\"https://news.naver.com\", link1)]\n",
        "    baselink <- link2[-grep(\"factcheck\", link2)]\n",
        "        while(i2 <= length(baselink)){\n",
        "            total.link <- append(total.link, baselink[i2])\n",
        "            i2 <- i2 + 1\n",
        "        }      \n",
        "    i1 <- i1 + 1\n",
        "    i2 <- 1\n",
        "}"
      ],
      "execution_count": null,
      "outputs": []
    },
    {
      "cell_type": "code",
      "metadata": {
        "id": "C8wRJZKhJBIc"
      },
      "source": [
        "last.link <-unique(total.link)\n",
        "length(last.link)"
      ],
      "execution_count": null,
      "outputs": []
    },
    {
      "cell_type": "markdown",
      "metadata": {
        "id": "XSaDM5EK9f-H"
      },
      "source": [
        "제목, 날짜, 본문"
      ]
    },
    {
      "cell_type": "code",
      "metadata": {
        "id": "fCrQusu4Gg1V"
      },
      "source": [
        "total.title <- NULL\n",
        "total.date <- NULL\n",
        "total.article <- NULL\n",
        "\n",
        "i3 <- 1\n",
        "\n",
        "while(i3 <= length(last.link)) {\n",
        "    url_new <- last.link[i3]\n",
        "    base <- read_html(url_new)\n",
        "    #제목\n",
        "    title <- base %>% html_nodes('#articleTitle') %>% html_text()\n",
        "    total.title <- append(total.title, title)\n",
        "\n",
        "    #날짜\n",
        "    date <- base %>% html_nodes('.t11') %>% html_text()\n",
        "    total.date <- append(total.date, date[1])\n",
        "    \n",
        "    #본문\n",
        "    article <- base %>% html_nodes('#articleBodyContents') %>% html_text()\n",
        "    article1 <- gsub(\"\\n\",\"\", article)\n",
        "    article2 <- gsub(\"\\t\",\"\", article1)\n",
        "    article3 <- gsub(\"// flash 오류를 우회하기 위한 함수 추가function _flash_removeCallback()\",\"\", article2)\n",
        "    article4 <- gsub(\"[()]\", \"\", article3)\n",
        "    article5 <- gsub(\"[{}]\", \"\", article4)\n",
        "    total.article <- append(total.article, article5)\n",
        "    \n",
        "    i3 <- i3 + 1\n",
        "}"
      ],
      "execution_count": null,
      "outputs": []
    },
    {
      "cell_type": "code",
      "metadata": {
        "id": "-snuN27NLib0"
      },
      "source": [
        "length(total.title)"
      ],
      "execution_count": null,
      "outputs": []
    },
    {
      "cell_type": "code",
      "metadata": {
        "id": "YJuSAItoLt3L"
      },
      "source": [
        "length(total.date)"
      ],
      "execution_count": null,
      "outputs": []
    },
    {
      "cell_type": "code",
      "metadata": {
        "id": "AVGrHCSFLtsD"
      },
      "source": [
        "length(total.article)"
      ],
      "execution_count": null,
      "outputs": []
    },
    {
      "cell_type": "code",
      "metadata": {
        "id": "-XS98E9nHief"
      },
      "source": [
        "df <- data.frame(\"제목\" = total.title, \"날짜\" = total.date, \"본문\" = total.article)"
      ],
      "execution_count": null,
      "outputs": []
    },
    {
      "cell_type": "code",
      "metadata": {
        "id": "9UrK5dTAMi_r"
      },
      "source": [
        "df"
      ],
      "execution_count": null,
      "outputs": []
    },
    {
      "cell_type": "code",
      "metadata": {
        "id": "rVVpUDcmS_ky"
      },
      "source": [
        "write.csv(df,file = \"news.csv\")"
      ],
      "execution_count": null,
      "outputs": []
    }
  ]
}