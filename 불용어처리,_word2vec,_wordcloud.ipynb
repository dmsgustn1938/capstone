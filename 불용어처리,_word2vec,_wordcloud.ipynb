{
  "nbformat": 4,
  "nbformat_minor": 0,
  "metadata": {
    "colab": {
      "name": "불용어처리, word2vec, wordcloud.ipynb",
      "private_outputs": true,
      "provenance": [],
      "authorship_tag": "ABX9TyPE3bpdRIQDX3/zNpo62KcJ",
      "include_colab_link": true
    },
    "kernelspec": {
      "name": "python3",
      "display_name": "Python 3"
    },
    "language_info": {
      "name": "python"
    }
  },
  "cells": [
    {
      "cell_type": "markdown",
      "metadata": {
        "id": "view-in-github",
        "colab_type": "text"
      },
      "source": [
        "<a href=\"https://colab.research.google.com/github/dmsgustn1938/capstone/blob/main/%EB%B6%88%EC%9A%A9%EC%96%B4%EC%B2%98%EB%A6%AC%2C_word2vec%2C_wordcloud.ipynb\" target=\"_parent\"><img src=\"https://colab.research.google.com/assets/colab-badge.svg\" alt=\"Open In Colab\"/></a>"
      ]
    },
    {
      "cell_type": "code",
      "metadata": {
        "id": "DvK5xlBXo4_8"
      },
      "source": [
        "import pandas as pd\n",
        "import csv"
      ],
      "execution_count": null,
      "outputs": []
    },
    {
      "cell_type": "code",
      "metadata": {
        "id": "ybhNBOudo99A"
      },
      "source": [
        "from matplotlib import font_manager,rc\n",
        "import matplotlib\n",
        "import matplotlib.pyplot as plt\n",
        " \n",
        "#폰트 경로\n",
        "font_path = \"C://Windows/Fonts/Maplestory Light.ttf\"\n",
        " \n",
        "#폰트 이름 얻어오기\n",
        "font_name = font_manager.FontProperties(fname=font_path).get_name()\n",
        " \n",
        "#font 설정\n",
        "matplotlib.rc('font',family=font_name)"
      ],
      "execution_count": null,
      "outputs": []
    },
    {
      "cell_type": "markdown",
      "metadata": {
        "id": "5CyhfQGspDSQ"
      },
      "source": [
        "기사 불러오기"
      ]
    },
    {
      "cell_type": "code",
      "metadata": {
        "id": "pi0uwlLCpBPv"
      },
      "source": [
        "total1 = pd.read_csv('filter_word5.csv', encoding = 'utf-8')\n",
        "total = total1['0']"
      ],
      "execution_count": null,
      "outputs": []
    },
    {
      "cell_type": "code",
      "metadata": {
        "id": "VZUK8SlSr9mp"
      },
      "source": [
        "filter_list = total"
      ],
      "execution_count": null,
      "outputs": []
    },
    {
      "cell_type": "markdown",
      "metadata": {
        "id": "wUO1Z_dUpGD3"
      },
      "source": [
        "불용어 처리"
      ]
    },
    {
      "cell_type": "code",
      "metadata": {
        "id": "PDNbaZcepIFj"
      },
      "source": [
        "stopwordlist = []"
      ],
      "execution_count": null,
      "outputs": []
    },
    {
      "cell_type": "code",
      "metadata": {
        "id": "knIaTecbpJKX"
      },
      "source": [
        "i = 0\n",
        "while i < len(total) :\n",
        "    if len(str(total[i])) > 6 :\n",
        "        stopwordlist.append(total[i])\n",
        "    i += 1\n",
        "len(stopwordlist)"
      ],
      "execution_count": null,
      "outputs": []
    },
    {
      "cell_type": "code",
      "metadata": {
        "id": "l1Vx6Of8pLzX"
      },
      "source": [
        "my_set = set(stopwordlist)\n",
        "new_list = list(my_set)\n",
        "len(new_list)"
      ],
      "execution_count": null,
      "outputs": []
    },
    {
      "cell_type": "code",
      "metadata": {
        "id": "QGZwTn4LpNZZ"
      },
      "source": [
        "filter_list = []"
      ],
      "execution_count": null,
      "outputs": []
    },
    {
      "cell_type": "code",
      "metadata": {
        "id": "bKq90X-ipOSv"
      },
      "source": [
        "for w in total : \n",
        "    if w not in new_list :\n",
        "        filter_list.append(w)\n",
        "len(filter_list)"
      ],
      "execution_count": null,
      "outputs": []
    },
    {
      "cell_type": "markdown",
      "metadata": {
        "id": "QprAXuhAphYy"
      },
      "source": [
        "불용어 1차 처리 후 단어 빈도수 확인"
      ]
    },
    {
      "cell_type": "code",
      "metadata": {
        "id": "p6X4mDxUpTbn"
      },
      "source": [
        "total_list = pd.Series(filter_list)\n",
        "result = total_list.value_counts().head(20)\n",
        "result"
      ],
      "execution_count": null,
      "outputs": []
    },
    {
      "cell_type": "code",
      "metadata": {
        "id": "tPy7gDx7pU_X"
      },
      "source": [
        "second_filter_list = []\n",
        "stop_word = '문재인,정부,현대차,시장,계획,올해,사업,기업,추진,세계,대통령,생산,우리,국내,재배포,금지,분야,기술,산업,개발,자동차,수소,가격,차량,사용,일반,때문,상황,지난해,경제,차량,산업,개발,관련,발표,미래,글로벌,예정,이후,정책,수출,활용,환경부,기존,규모,마련,2022년,전망,이날,국회,한국,회장,무단전재,뉴스,강화,이상,투자,필요,정도,2020년,1회,지적,이번,수소경제,전환,필요,내년,네이버,구입,소비자,고속도로,관계자,미국,설치,경우,판매,목표,일본,전국,불과,가능,일자리,공급,구제,중국,협력,지역,문제,수준,구매,편성,확보,현재,국비,우리나라,건립,구축,투입,포함,최대,무단,전재'\n",
        "stop_list = stop_word.split(',')"
      ],
      "execution_count": null,
      "outputs": []
    },
    {
      "cell_type": "code",
      "metadata": {
        "id": "1eUfSy6ApXRI"
      },
      "source": [
        "for w in filter_list : \n",
        "    if w not in stop_list :\n",
        "        second_filter_list.append(w)"
      ],
      "execution_count": null,
      "outputs": []
    },
    {
      "cell_type": "markdown",
      "metadata": {
        "id": "Z1kcCVm9pexI"
      },
      "source": [
        "최종 단어 빈도 수 확인"
      ]
    },
    {
      "cell_type": "code",
      "metadata": {
        "id": "W8t6xdeepYQ_"
      },
      "source": [
        "second_total_list = pd.Series(second_filter_list)\n",
        "result = second_total_list.value_counts().head(20)\n",
        "result"
      ],
      "execution_count": null,
      "outputs": []
    },
    {
      "cell_type": "markdown",
      "metadata": {
        "id": "SPzLOQJeplmg"
      },
      "source": [
        "word2vec"
      ]
    },
    {
      "cell_type": "code",
      "metadata": {
        "id": "HGcZseSWpnxf"
      },
      "source": [
        "a = []\n",
        "a.append(second_filter_list)"
      ],
      "execution_count": null,
      "outputs": []
    },
    {
      "cell_type": "code",
      "metadata": {
        "id": "zXrcGeM-prGa"
      },
      "source": [
        "from gensim.models.word2vec import Word2Vec\n",
        "model=Word2Vec(a, sg=1, window=10, min_count=1000)"
      ],
      "execution_count": null,
      "outputs": []
    },
    {
      "cell_type": "code",
      "metadata": {
        "id": "yxhLM-uEps8g"
      },
      "source": [
        "model.wv.most_similar('충전소', topn=30)"
      ],
      "execution_count": null,
      "outputs": []
    },
    {
      "cell_type": "code",
      "metadata": {
        "id": "04UaQ9xBptlj"
      },
      "source": [
        "model.wv.similarity(\"수소차\",'수소충전소')"
      ],
      "execution_count": null,
      "outputs": []
    },
    {
      "cell_type": "markdown",
      "metadata": {
        "id": "EEPTyVHTp0Mw"
      },
      "source": [
        "워드 클라우드"
      ]
    },
    {
      "cell_type": "code",
      "metadata": {
        "id": "4c_uOcQLpv4Q"
      },
      "source": [
        "from wordcloud import WordCloud\n",
        "import matplotlib.pyplot as plt\n",
        "import numpy as np\n",
        "from PIL import Image\n",
        "from collections import Counter"
      ],
      "execution_count": null,
      "outputs": []
    },
    {
      "cell_type": "code",
      "metadata": {
        "id": "KHBXmHoepxCo"
      },
      "source": [
        "car_image = np.array(Image.open('car-image.jpg'))"
      ],
      "execution_count": null,
      "outputs": []
    },
    {
      "cell_type": "code",
      "metadata": {
        "id": "peh5x5cnpxnR"
      },
      "source": [
        "plt.figure(figsize=(8,8))\n",
        "plt.imshow(car_image, cmap=plt.cm.gray, interpolation = 'bilinear')\n",
        "plt.axis('off')\n",
        "plt.show()"
      ],
      "execution_count": null,
      "outputs": []
    },
    {
      "cell_type": "code",
      "metadata": {
        "id": "QO3uEXI-pzIw"
      },
      "source": [
        "counts = Counter(second_filter_list)\n",
        "tags = counts.most_common(40) "
      ],
      "execution_count": null,
      "outputs": []
    },
    {
      "cell_type": "code",
      "metadata": {
        "id": "K3H6ceD3p306"
      },
      "source": [
        "wc = WordCloud(font_path = \"C:/Windows/Fonts/Maplestory Light.ttf\",\n",
        "    background_color = 'white', max_words = 150, mask = car_image)\n",
        "wc = wc.generate_from_frequencies(dict(tags))"
      ],
      "execution_count": null,
      "outputs": []
    },
    {
      "cell_type": "code",
      "metadata": {
        "id": "cUyyHW02p43x"
      },
      "source": [
        "plt.figure(figsize=(12,12))\n",
        "plt.imshow(wc, interpolation = 'bilinear')\n",
        "plt.axis('off')\n",
        "plt.show()"
      ],
      "execution_count": null,
      "outputs": []
    }
  ]
}