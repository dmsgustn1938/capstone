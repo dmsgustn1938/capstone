{
  "nbformat": 4,
  "nbformat_minor": 0,
  "metadata": {
    "colab": {
      "name": "K_medoids.ipynb",
      "private_outputs": true,
      "provenance": [],
      "collapsed_sections": [],
      "include_colab_link": true
    },
    "kernelspec": {
      "name": "python3",
      "display_name": "Python 3"
    },
    "language_info": {
      "name": "python"
    }
  },
  "cells": [
    {
      "cell_type": "markdown",
      "metadata": {
        "id": "view-in-github",
        "colab_type": "text"
      },
      "source": [
        "<a href=\"https://colab.research.google.com/github/dmsgustn1938/capstone/blob/main/K_medoids.ipynb\" target=\"_parent\"><img src=\"https://colab.research.google.com/assets/colab-badge.svg\" alt=\"Open In Colab\"/></a>"
      ]
    },
    {
      "cell_type": "code",
      "metadata": {
        "id": "3_nCTxknRPsK"
      },
      "source": [
        "pip install scikit-learn-extra"
      ],
      "execution_count": null,
      "outputs": []
    },
    {
      "cell_type": "code",
      "metadata": {
        "id": "z124PMzxQb0t"
      },
      "source": [
        "from sklearn_extra.cluster import KMedoids\n",
        "from sklearn.datasets import make_blobs\n",
        "import numpy as np\n",
        "import pandas as pd\n",
        "from pandas import DataFrame\n",
        "import folium\n",
        "import matplotlib.pyplot as plt\n",
        "import json\n",
        "import re"
      ],
      "execution_count": null,
      "outputs": []
    },
    {
      "cell_type": "markdown",
      "metadata": {
        "id": "NkBRAKERWD8a"
      },
      "source": [
        "LPG충전소 데이터 불러오기"
      ]
    },
    {
      "cell_type": "code",
      "metadata": {
        "id": "YBi7bR06RD8S"
      },
      "source": [
        "mapdata = pd.read_csv('LPG.csv', encoding = 'euc-kr')\n",
        "mapdata"
      ],
      "execution_count": null,
      "outputs": []
    },
    {
      "cell_type": "code",
      "metadata": {
        "id": "rQGxHoyjSHy8"
      },
      "source": [
        "lat = mapdata['WGS84위도']\n",
        "long = mapdata['WGS84경도']  "
      ],
      "execution_count": null,
      "outputs": []
    },
    {
      "cell_type": "code",
      "metadata": {
        "id": "PaklAdSjQvdr"
      },
      "source": [
        "lpgdata = pd.DataFrame({'위도' : lat,'경도' : long})"
      ],
      "execution_count": null,
      "outputs": []
    },
    {
      "cell_type": "code",
      "metadata": {
        "id": "K0V3IoC2pn8_"
      },
      "source": [
        "lpgdata"
      ],
      "execution_count": null,
      "outputs": []
    },
    {
      "cell_type": "code",
      "metadata": {
        "id": "V19HAJpjeIFI"
      },
      "source": [
        "lpgarray = lpgdata.to_numpy()"
      ],
      "execution_count": null,
      "outputs": []
    },
    {
      "cell_type": "code",
      "metadata": {
        "id": "MITZ17hHT6aS"
      },
      "source": [
        "latmean = lat.mean()\n",
        "longmean = long.mean()"
      ],
      "execution_count": null,
      "outputs": []
    },
    {
      "cell_type": "code",
      "metadata": {
        "id": "zgzyK0xeT4ET"
      },
      "source": [
        "#m = folium.Map([latmean,longmean],zoom_start=9)"
      ],
      "execution_count": null,
      "outputs": []
    },
    {
      "cell_type": "code",
      "metadata": {
        "id": "86NrkTC1VRoU"
      },
      "source": [
        "h_car = int(input('경기도 수소차 등록대수 : '))\n",
        "D = round(500/38)\n",
        "S = 5\n",
        "T = 8\n",
        "g_h_car = 10\n",
        "\n",
        "k = int(round((((h_car/D) / (S * T)) - g_h_car) / 2))\n",
        "print(\"군집수는 \"+str(k)+\"개\")"
      ],
      "execution_count": null,
      "outputs": []
    },
    {
      "cell_type": "code",
      "metadata": {
        "id": "UTTxcgxyShax"
      },
      "source": [
        "kmedoids = KMedoids(n_clusters=k, random_state=0).fit(lpgarray)\n",
        "labels = kmedoids.labels_"
      ],
      "execution_count": null,
      "outputs": []
    },
    {
      "cell_type": "code",
      "metadata": {
        "id": "1Y7MsDPTV7fM"
      },
      "source": [
        "susomap = kmedoids.cluster_centers_"
      ],
      "execution_count": null,
      "outputs": []
    },
    {
      "cell_type": "code",
      "metadata": {
        "id": "_f8Dq-u3t599"
      },
      "source": [
        "#mapdata.info()\n",
        "#mapdata.index"
      ],
      "execution_count": null,
      "outputs": []
    },
    {
      "cell_type": "markdown",
      "metadata": {
        "id": "r__IjCoTCy9w"
      },
      "source": [
        "경기도 인구"
      ]
    },
    {
      "cell_type": "code",
      "metadata": {
        "id": "DGIPo2gjAkdx"
      },
      "source": [
        "ggdata1 = pd.read_csv('ggpopulation.csv', encoding = 'euc-kr')"
      ],
      "execution_count": null,
      "outputs": []
    },
    {
      "cell_type": "code",
      "metadata": {
        "id": "PAK_bnEMJfpa"
      },
      "source": [
        "ggdata = pd.DataFrame(ggdata1)"
      ],
      "execution_count": null,
      "outputs": []
    },
    {
      "cell_type": "code",
      "metadata": {
        "id": "1q6vkhWuRnJU"
      },
      "source": [
        "pollutiondata_1 = pd.read_csv('airpollution.csv', encoding = 'euc-kr')"
      ],
      "execution_count": null,
      "outputs": []
    },
    {
      "cell_type": "code",
      "metadata": {
        "id": "MrPTK6jIRtuW"
      },
      "source": [
        "pollutiondata = pd.DataFrame(pollutiondata_1)"
      ],
      "execution_count": null,
      "outputs": []
    },
    {
      "cell_type": "code",
      "metadata": {
        "id": "nq-9w-l_nu6E"
      },
      "source": [
        "drivingdata_1 = pd.read_csv('driving.csv', encoding = 'euc-kr')"
      ],
      "execution_count": null,
      "outputs": []
    },
    {
      "cell_type": "code",
      "metadata": {
        "id": "E8CrrBwununC"
      },
      "source": [
        "drivingdata = pd.DataFrame(drivingdata_1)"
      ],
      "execution_count": null,
      "outputs": []
    },
    {
      "cell_type": "code",
      "metadata": {
        "id": "nCrkI1W3szxf",
        "cellView": "code"
      },
      "source": [
        "\n",
        "ggdata.info()\n",
        "\n",
        "ggdata['code'] = ggdata['code'].astype(str)\n",
        "\n",
        "ggdata.info()\n",
        "\n",
        "pollutiondata.info()\n",
        "\n",
        "pollutiondata['code'] = pollutiondata['code'].astype(str)\n",
        "\n",
        "pollutiondata.info()\n",
        "\n",
        "drivingdata.info()\n",
        "\n",
        "drivingdata['code'] = drivingdata['code'].astype(str)\n",
        "\n",
        "drivingdata.info()"
      ],
      "execution_count": null,
      "outputs": []
    },
    {
      "cell_type": "markdown",
      "metadata": {
        "id": "dHSNgP1rK4X9"
      },
      "source": [
        "데이터 프레임 str로 변경\n"
      ]
    },
    {
      "cell_type": "code",
      "metadata": {
        "id": "MfXPR9boC3ZZ"
      },
      "source": [
        "#geo_json = 'jsongeo.geojson'\n",
        "geo_json = 'jjjjjjj.geojson'"
      ],
      "execution_count": null,
      "outputs": []
    },
    {
      "cell_type": "code",
      "metadata": {
        "id": "A8zodBgsXWCx"
      },
      "source": [
        "geo_json = json.load(open(geo_json, encoding='utf-8'))"
      ],
      "execution_count": null,
      "outputs": []
    },
    {
      "cell_type": "code",
      "metadata": {
        "id": "nIzZL0MMXtAM"
      },
      "source": [
        "geo_json"
      ],
      "execution_count": null,
      "outputs": []
    },
    {
      "cell_type": "code",
      "metadata": {
        "id": "M6e9tYCCCRHp"
      },
      "source": [
        "#for idx, sigun_dict in enumerate(geo_json['features']):\n",
        "#  sigun_id = sigun_dict\n",
        "# 못만들겠음.."
      ],
      "execution_count": null,
      "outputs": []
    },
    {
      "cell_type": "code",
      "metadata": {
        "id": "oC-WpEVED3m4"
      },
      "source": [
        "#인구맵\n",
        "ggmap = folium.Map(location=[latmean,longmean], zoom_start = 9)"
      ],
      "execution_count": null,
      "outputs": []
    },
    {
      "cell_type": "code",
      "metadata": {
        "id": "Z2fWVXBkSPJF"
      },
      "source": [
        "#미세먼지맵\n",
        "pollution_map = folium.Map(location=[latmean,longmean], zoom_start = 9)"
      ],
      "execution_count": null,
      "outputs": []
    },
    {
      "cell_type": "code",
      "metadata": {
        "id": "gSQYpBbooXY6"
      },
      "source": [
        "#평균주행거리\n",
        "driving_map = folium.Map(location=[latmean,longmean], zoom_start = 9)"
      ],
      "execution_count": null,
      "outputs": []
    },
    {
      "cell_type": "code",
      "metadata": {
        "id": "2jnNHTMzFqGg"
      },
      "source": [
        "#인구맵\n",
        "ggmap.choropleth(geo_data=geo_json,\n",
        "    data=ggdata,\n",
        "    columns=('code','counts'),\n",
        "    fill_color='PuRd',\n",
        "    key_on='feature.properties.SIG_CD',\n",
        "    fill_opacity=0.5,\n",
        "    line_opacity=1,\n",
        "    legend_name = 'population(people)')"
      ],
      "execution_count": null,
      "outputs": []
    },
    {
      "cell_type": "code",
      "metadata": {
        "id": "We-io0YsScJd"
      },
      "source": [
        "#미세먼지맵\n",
        "pollution_map.choropleth(geo_data=geo_json,\n",
        "    data=pollutiondata,\n",
        "    columns=('code','pollution'),\n",
        "    fill_color='RdGy',\n",
        "    key_on='feature.properties.SIG_CD',\n",
        "    fill_opacity=0.5,\n",
        "    line_opacity=1,\n",
        "    legend_name = '미세먼지농도(PM10)')"
      ],
      "execution_count": null,
      "outputs": []
    },
    {
      "cell_type": "code",
      "metadata": {
        "id": "WaEE_vUUnoP9"
      },
      "source": [
        "#평균 주행거리\n",
        "driving_map.choropleth(geo_data=geo_json,\n",
        "    data=drivingdata,\n",
        "    columns=('code','driving'),\n",
        "    fill_color='BuPu',\n",
        "    key_on='feature.properties.SIG_CD',\n",
        "    fill_opacity=0.5,\n",
        "    line_opacity=1,\n",
        "    legend_name = '평균주행거리(km/대)')"
      ],
      "execution_count": null,
      "outputs": []
    },
    {
      "cell_type": "code",
      "metadata": {
        "id": "CagNb7H-d0Y2"
      },
      "source": [
        "#folium.Choropleth(\n",
        "#    geo_data=geo_json,\n",
        "#    data=ggdata,\n",
        "#    columns=('시군구별','counts'),\n",
        "#    key_on='feature.properties.SIG_KOR_NM',\n",
        "#    fill_color=\"BuPu\",\n",
        "#    legend_name='population(people)'\n",
        "#    ).add_to(ggmap)\n"
      ],
      "execution_count": null,
      "outputs": []
    },
    {
      "cell_type": "code",
      "metadata": {
        "id": "EepH6m7FAiR7"
      },
      "source": [
        "for i in range(0, k):\n",
        "    sub_lat =  susomap[i,0]\n",
        "    sub_long = susomap[i,1]\n",
        "    #print(mapdata.loc[(mapdata['WGS84위도'] == sub_lat) & (mapdata['WGS84경도'] == sub_long)])\n",
        "    read_Index = mapdata.index[(mapdata['WGS84위도']==sub_lat)]\n",
        "    #print(read_Index)\n",
        "    #print(read_Index.values)\n",
        "    read_name = mapdata.loc[read_Index.values,'업체명']\n",
        "    #print(read_name.values)\n",
        "    folium.Marker([sub_lat,sub_long],popup = str(sub_lat)+\", \"+str(sub_long),tooltip= str(read_name.values) ).add_to(ggmap)\n",
        "    folium.Marker([sub_lat,sub_long],popup = str(sub_lat)+\", \"+str(sub_long),tooltip= str(read_name.values) ).add_to(pollution_map)\n",
        "    folium.Marker([sub_lat,sub_long],popup = str(sub_lat)+\", \"+str(sub_long),tooltip= str(read_name.values) ).add_to(driving_map)"
      ],
      "execution_count": null,
      "outputs": []
    },
    {
      "cell_type": "code",
      "metadata": {
        "id": "YXO_ZTixfe8V"
      },
      "source": [
        "ggmap.save(\"ggmap.html\")\n",
        "ggmap"
      ],
      "execution_count": null,
      "outputs": []
    },
    {
      "cell_type": "code",
      "metadata": {
        "id": "bZ8KQXGwit5n"
      },
      "source": [
        "ggmap.save(\"ggmap.html\")"
      ],
      "execution_count": null,
      "outputs": []
    },
    {
      "cell_type": "code",
      "metadata": {
        "id": "vcrOCLywTTmx"
      },
      "source": [
        "pollution_map\n",
        "#pollution.save(\"pollution.html\")"
      ],
      "execution_count": null,
      "outputs": []
    },
    {
      "cell_type": "code",
      "metadata": {
        "id": "-4aXQn7Oopxs"
      },
      "source": [
        "driving_map"
      ],
      "execution_count": null,
      "outputs": []
    }
  ]
}